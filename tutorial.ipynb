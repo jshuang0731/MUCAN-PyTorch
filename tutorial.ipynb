{
 "cells": [
  {
   "cell_type": "markdown",
   "id": "8a327115-0a25-4c30-859e-d033f2add04d",
   "metadata": {},
   "source": [
    "# Masked U-net based Cycle-consistent Adversarial Networks"
   ]
  },
  {
   "cell_type": "code",
   "execution_count": 1,
   "id": "69df612a-a823-4524-a10c-336f84b78cf6",
   "metadata": {},
   "outputs": [],
   "source": [
    "import sys\n",
    "\n",
    "import numpy as np\n",
    "import torch\n",
    "from sklearn.metrics import r2_score\n",
    "from sklearn.model_selection import train_test_split\n",
    "\n",
    "sys.path.append('./utils/')\n",
    "from datakits import get_dataset\n",
    "from decoder import RidgeRegression as WienerFilter\n",
    "from model_mucan import Aligner"
   ]
  },
  {
   "cell_type": "code",
   "execution_count": 2,
   "id": "2d792b52-e1fc-4663-afa3-75ba87ab905c",
   "metadata": {},
   "outputs": [],
   "source": [
    "data_dir = './dataset/Jango_ISO_2015/'\n",
    "device = torch.device('cuda:0')"
   ]
  },
  {
   "cell_type": "markdown",
   "id": "47c44e10-354e-420b-a4b1-788a77dbcd89",
   "metadata": {},
   "source": [
    "---\n",
    "### Load data"
   ]
  },
  {
   "cell_type": "code",
   "execution_count": 3,
   "id": "88576b34-5546-4649-8c45-d16ad448ca0d",
   "metadata": {},
   "outputs": [],
   "source": [
    "d0_x, d0_y = get_dataset(data_dir, 'Jango_20150730_001.npz', 'EMG')\n",
    "dk_x, dk_y = get_dataset(data_dir, 'Jango_20150731_001.npz', 'EMG')"
   ]
  },
  {
   "cell_type": "markdown",
   "id": "d0f21ca9-3fc1-4312-b6e1-6c4741b07911",
   "metadata": {},
   "source": [
    "---\n",
    "### Train day-0 decoder"
   ]
  },
  {
   "cell_type": "code",
   "execution_count": 4,
   "id": "364194b6-f347-490b-bb12-dd4e6d16045b",
   "metadata": {},
   "outputs": [
    {
     "name": "stderr",
     "output_type": "stream",
     "text": [
      "Training: 100%|██████████| 4/4 [00:04<00:00,  1.24s/it, \u001b[32mCPU=100.0% | 2.5/125.6G\u001b[0m, \u001b[35mNVIDIA GeForce RTX 4090=0% | 3/24564M\u001b[0m]\n"
     ]
    },
    {
     "data": {
      "text/plain": [
       "0.7251491892525731"
      ]
     },
     "execution_count": 4,
     "metadata": {},
     "output_type": "execute_result"
    }
   ],
   "source": [
    "d0_decoder = WienerFilter()\n",
    "d0_decoder.fit_with_kfold(d0_x, d0_y, n_lags=4, n_splits=4)"
   ]
  },
  {
   "cell_type": "markdown",
   "id": "33312451-a356-4b56-9cb6-51dcc8f471a0",
   "metadata": {},
   "source": [
    "---\n",
    "### Pretrain aligner"
   ]
  },
  {
   "cell_type": "code",
   "execution_count": 5,
   "id": "d51f42c2-a038-455c-8948-a182382b3026",
   "metadata": {},
   "outputs": [],
   "source": [
    "d0_x_fh, dk_x_sh, _, _ = train_test_split(\n",
    "    d0_x, d0_y, train_size=0.5, shuffle=False\n",
    ")"
   ]
  },
  {
   "cell_type": "code",
   "execution_count": 6,
   "id": "3dd45ba0-902e-4bd5-8152-c331e6e08176",
   "metadata": {},
   "outputs": [
    {
     "name": "stderr",
     "output_type": "stream",
     "text": [
      "Training: 100%|██████████| 400/400 [01:10<00:00,  5.66it/s, \u001b[32mCPU=4.5% | 4.5/125.6G\u001b[0m, \u001b[35mNVIDIA GeForce RTX 4090=36% | 1478/24564M\u001b[0m]\n"
     ]
    },
    {
     "data": {
      "text/plain": [
       "71.47916566114873"
      ]
     },
     "execution_count": 6,
     "metadata": {},
     "output_type": "execute_result"
    }
   ],
   "source": [
    "input_dim = d0_x_fh[0].shape[-1]\n",
    "aligner = Aligner(input_dim=input_dim)\n",
    "aligner.fit(\n",
    "    d0_x_fh, dk_x_sh, device, param={'n_epochs': 400, 'n_masks': 30}\n",
    ")"
   ]
  },
  {
   "cell_type": "markdown",
   "id": "03cd8101-a9f1-4b81-9898-3155e62f7483",
   "metadata": {},
   "source": [
    "---\n",
    "### Finetune aligner"
   ]
  },
  {
   "cell_type": "code",
   "execution_count": 7,
   "id": "5d1b01a6-954e-44eb-aec9-efe8c3b626c9",
   "metadata": {},
   "outputs": [],
   "source": [
    "d0_x_train = d0_x.copy()\n",
    "dk_x_train, dk_x_test, _, dk_y_test = train_test_split(\n",
    "    dk_x, dk_y, train_size=120, shuffle=False\n",
    ")"
   ]
  },
  {
   "cell_type": "code",
   "execution_count": 8,
   "id": "e861711e-a1d8-4fe4-ac88-7cb18cc5226a",
   "metadata": {},
   "outputs": [
    {
     "name": "stderr",
     "output_type": "stream",
     "text": [
      "Training: 100%|██████████| 200/200 [00:50<00:00,  3.93it/s, \u001b[32mCPU=4.2% | 4.5/125.6G\u001b[0m, \u001b[35mNVIDIA GeForce RTX 4090=37% | 1926/24564M\u001b[0m]\n"
     ]
    },
    {
     "data": {
      "text/plain": [
       "50.8984676906839"
      ]
     },
     "execution_count": 8,
     "metadata": {},
     "output_type": "execute_result"
    }
   ],
   "source": [
    "aligner.fit(\n",
    "    d0_x_train, dk_x_train, device, param={'n_epochs': 200}\n",
    ")"
   ]
  },
  {
   "cell_type": "markdown",
   "id": "e94ffa15-cd70-4023-b609-c297bc0bf585",
   "metadata": {},
   "source": [
    "### Evaluation"
   ]
  },
  {
   "cell_type": "code",
   "execution_count": 9,
   "id": "342c2dfb-b1be-432d-8d96-c8bd1bea894c",
   "metadata": {
    "tags": []
   },
   "outputs": [
    {
     "name": "stdout",
     "output_type": "stream",
     "text": [
      "The R² achieved 0.7412 on day-k test-set\n"
     ]
    }
   ],
   "source": [
    "dk_x_test_aligned = aligner.transform(dk_x_test, device)\n",
    "dk_y_test_pred = d0_decoder.predict(dk_x_test_aligned)\n",
    "r2_aligned = r2_score(\n",
    "    np.concatenate(dk_y_test), np.concatenate(dk_y_test_pred),\n",
    "    multioutput='variance_weighted'\n",
    ")\n",
    "print(f'The R\\u00b2 achieved {r2_aligned:.4f} on day-k test-set')"
   ]
  }
 ],
 "metadata": {
  "kernelspec": {
   "display_name": "Python 3 (ipykernel)",
   "language": "python",
   "name": "python3"
  },
  "language_info": {
   "codemirror_mode": {
    "name": "ipython",
    "version": 3
   },
   "file_extension": ".py",
   "mimetype": "text/x-python",
   "name": "python",
   "nbconvert_exporter": "python",
   "pygments_lexer": "ipython3",
   "version": "3.10.5"
  }
 },
 "nbformat": 4,
 "nbformat_minor": 5
}
